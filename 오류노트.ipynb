{
 "cells": [
  {
   "cell_type": "markdown",
   "metadata": {},
   "source": [
    "# 내비게이션 바 2개 출력되는 사건 \n",
    "\n",
    "- 오류 원인: HTML 코드에서 중복으로 내비게이션 바를 선언했거나, CSS 파일이나 템플릿에서 내비게이션 관련 요소가 두 번 렌더링\n",
    "- 오류 위치 : main 에 <nav bar> 선언 되었었음\n",
    "- 찾은 방법 : 브라우저 F12로 찾았음"
   ]
  },
  {
   "cell_type": "markdown",
   "metadata": {},
   "source": []
  }
 ],
 "metadata": {
  "language_info": {
   "name": "python"
  }
 },
 "nbformat": 4,
 "nbformat_minor": 2
}
