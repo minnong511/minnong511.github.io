{
 "cells": [
  {
   "cell_type": "markdown",
   "metadata": {},
   "source": [
    "# 내비게이션 바 2개 출력되는 사건 \n",
    "\n",
    "- 오류 원인: HTML 코드에서 중복으로 내비게이션 바를 선언했거나, CSS 파일이나 템플릿에서 내비게이션 관련 요소가 두 번 렌더링\n",
    "- 오류 위치 : main 에 <nav bar> 선언 되었었음\n",
    "- 찾은 방법 : 브라우저 F12로 찾았음"
   ]
  },
  {
   "cell_type": "markdown",
   "metadata": {},
   "source": [
    "# 페이지를 다시 로드하면 HTML 파일이 사라지는 문제 \n",
    "- 오류 원인 :HTML 파일이 사라지는 문제는 Jekyll이 사이트를 빌드할 때 _site 디렉토리를 재생성하기 때문 , ekyll은 소스 파일을 기반으로 _site 디렉토리를 생성하며, 이 과정에서 기존 파일이 덮어쓰여질 수 있음\n",
    "\n",
    "- 해결 방법 : 소소스 파일을 _site 디렉토리가 아닌 프로젝트의 루트 디렉토리나 적절한 위치에 배치해야 합니다. _site 디렉토리는 Jekyll이 빌드한 결과물이므로 직접 수정하지 않아야 합니"
   ]
  },
  {
   "cell_type": "markdown",
   "metadata": {},
   "source": [
    "\n",
    "_includes 디렉토리에 재사용할 HTML 조각을 저장합니다.\n",
    "{% include %} 태그를 사용하여 레이아웃 파일이나 페이지 파일에 HTML 조각을 포함합니다.\n",
    "페이지 파일에서 레이아웃을 지정하여 해당 레이아웃을 사용하도록 합니다."
   ]
  },
  {
   "cell_type": "markdown",
   "metadata": {},
   "source": [
    "# 한 파일만 바꿔도 수정되는 문제 \n",
    "\n",
    "- 심볼릭 링크 문제 "
   ]
  },
  {
   "cell_type": "markdown",
   "metadata": {},
   "source": [
    "# 배포가 안되는 문제\n",
    "\n",
    "- .github/workflows 파일이 없어서 생기는 문제\n",
    "\n",
    "# 새롭게 만들어도 갱신이 안되는 문제 \n",
    "\n",
    "- 브라우저의 Cache 파일 지우기 "
   ]
  }
 ],
 "metadata": {
  "language_info": {
   "name": "python"
  }
 },
 "nbformat": 4,
 "nbformat_minor": 2
}
