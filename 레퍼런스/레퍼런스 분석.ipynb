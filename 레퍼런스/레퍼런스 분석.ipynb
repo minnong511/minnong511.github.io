{
 "cells": [
  {
   "cell_type": "code",
   "execution_count": null,
   "metadata": {
    "vscode": {
     "languageId": "html"
    }
   },
   "outputs": [],
   "source": [
    "<meta charSet=\"utf-8\"/>\n",
    "<title>Midjourney</title>\n",
    "<meta name=\"viewport\" content=\"width=device-width,initial-scale=1,viewport-fit=cover\"/>\n",
    "<meta name=\"description\" content=\"An independent research lab exploring new mediums of thought and expanding the imaginative powers of the human species.\"/>\n"
   ]
  },
  {
   "cell_type": "markdown",
   "metadata": {},
   "source": [
    "- meta : 문서의 메타데이터를 정의한다. \n",
    "- viewport : 반응형 웹 디자인을 위한 뷰포트 설정 \n",
    "- description : 검색 엔진 최적화(SEO)를 위한 사이트 설명 \n",
    "- title : 브라우저 상단에 표시되는 제목 "
   ]
  },
  {
   "cell_type": "code",
   "execution_count": null,
   "metadata": {
    "vscode": {
     "languageId": "html"
    }
   },
   "outputs": [],
   "source": [
    "<link rel=\"manifest\" href=\"/manifest.json\"/>\n",
    "<link rel=\"apple-touch-icon\" href=\"https://www.midjourney.com/apple-touch-icon.png\"/>\n",
    "<link rel=\"stylesheet\" href=\"/_next/static/css/d4ec0a84d3fc4416.css\"/>\n",
    "<script src=\"/_next/static/chunks/webpack-580064eea40a4889.js\" defer=\"\"></script>\n"
   ]
  },
  {
   "cell_type": "markdown",
   "metadata": {},
   "source": [
    "manifest.json: PWA(Progressive Web App) 설정 파일.\n",
    "apple-touch-icon: iOS에서 홈 화면 아이콘으로 사용.\n",
    "CSS와 JavaScript 파일은 Next.js를 통해 정적 리소스로 제공됩니다.\n",
    "-> 이거는 뭐 react로 구현이 가능하니 굳이 신경쓸 필요는 없겠군... "
   ]
  },
  {
   "cell_type": "markdown",
   "metadata": {},
   "source": [
    "## 레이아웃 구조 \n",
    "- 메인 레이아웃 구조 "
   ]
  },
  {
   "cell_type": "code",
   "execution_count": null,
   "metadata": {
    "vscode": {
     "languageId": "html"
    }
   },
   "outputs": [],
   "source": [
    "<body>\n",
    "    <div id=\"__next\">\n",
    "      <div class=\"bg-[#060522] font-mono\">\n",
    "        <main class=\"flex flex-col items-stretch justify-start\">\n",
    "  "
   ]
  },
  {
   "cell_type": "markdown",
   "metadata": {},
   "source": [
    "#__next: Next.js에서 사용되는 최상위 컨테이너\n",
    "\n",
    "**bg-[#060522]: 배경색 지정(깊은 파란색)**. -> 이건 중요하군 \n",
    "font-mono: 전체 페이지에 모노스페이스 폰트 적용."
   ]
  },
  {
   "cell_type": "markdown",
   "metadata": {},
   "source": [
    "### Hero Section \n",
    "\n",
    "<div class=\"relative flex items-center justify-center h-[calc(100vh-120px)]\" style=\"background:linear-gradient(0deg, #060522 30%, #061434)\">\n",
    "  <canvas style=\"width:100%;height:100%;background:transparent\"></canvas>\n",
    "</div>\n",
    "\n",
    "canvas: 동적인 그래픽 요소를 그리기 위한 캔버스.\n",
    "linear-gradient: 배경에 그라데이션 적용.\n"
   ]
  },
  {
   "cell_type": "markdown",
   "metadata": {},
   "source": [
    "### Sign up , Log in(이거는 필요없음)\n",
    "\n",
    "<button class=\"flex gap-2 items-center w-fit ... bg-emerald-900/20\">\n",
    "  <span>Sign Up</span>\n",
    "</button>\n",
    "<button class=\"flex gap-2 items-center w-fit ... bg-yellow-900/20\">\n",
    "  <span>Log In</span>\n",
    "</button>\n"
   ]
  },
  {
   "cell_type": "markdown",
   "metadata": {},
   "source": [
    "#  섹션 (About, Team) \n",
    "<section id=\"about\">\n",
    "  <h1>About</h1>\n",
    "  <p>Midjourney is an independent research lab...</p>\n",
    "</section>\n",
    "\n",
    "구조:\n",
    "- id=\"about\": 내부 페이지 내비게이션용 앵커.\n",
    "- text-slate-300: 글씨 색상 조절(Tailwind 사용)"
   ]
  },
  {
   "cell_type": "markdown",
   "metadata": {},
   "source": [
    "# 푸터 \n",
    "\n",
    "<section class=\"flex justify-center gap-8\">\n",
    "  <a href=\"https://docs.midjourney.com/docs/terms-of-service\">Terms of Service</a>\n",
    "  <a href=\"https://docs.midjourney.com/docs/privacy-policy\">Privacy Policy</a>\n",
    "</section>\n",
    "\n",
    "- 푸터에 서비스 약관 및 개인정보 보호 정책 링크 포함.\n",
    "- gap-8: 링크 간 간격 설정."
   ]
  },
  {
   "cell_type": "markdown",
   "metadata": {},
   "source": [
    "https://snskeyboard.com/asciitext/"
   ]
  },
  {
   "cell_type": "markdown",
   "metadata": {},
   "source": [
    "                                                                  __                         __         ___                                   \n",
    "              __                                                 /\\ \\                       /\\ \\       /\\_ \\                                  \n",
    "  ___ ___    /\\_\\     ___      ___      ___     ___       __     \\ \\\\      ____             \\ \\ \\____  \\//\\ \\      ___      __                \n",
    "/' __` __`\\  \\/\\ \\  /' _ `\\  /' _ `\\   / __`\\ /' _ `\\   /'_ `\\    \\//     /',__\\             \\ \\ '__`\\   \\ \\ \\    / __`\\  /'_ `\\              \n",
    "/\\ \\/\\ \\/\\ \\  \\ \\ \\ /\\ \\/\\ \\ /\\ \\/\\ \\ /\\ \\L\\ \\/\\ \\/\\ \\ /\\ \\L\\ \\          /\\__, `\\             \\ \\ \\L\\ \\   \\_\\ \\_ /\\ \\L\\ \\/\\ \\L\\ \\             \n",
    "\\ \\_\\ \\_\\ \\_\\  \\ \\_\\\\ \\_\\ \\_\\\\ \\_\\ \\_\\\\ \\____/\\ \\_\\ \\_\\\\ \\____ \\         \\/\\____/              \\ \\_,__/   /\\____\\\\ \\____/\\ \\____ \\            \n",
    " \\/_/\\/_/\\/_/   \\/_/ \\/_/\\/_/ \\/_/\\/_/ \\/___/  \\/_/\\/_/ \\/___L\\ \\         \\/___/                \\/___/    \\/____/ \\/___/  \\/___L\\ \\           \n",
    "                                                          /\\____/                                                           /\\____/           \n",
    "                                                          \\_/__/                                                            \\_/__/            "
   ]
  },
  {
   "cell_type": "markdown",
   "metadata": {},
   "source": [
    "                                                                                       _                         __         ___                                   \n",
    "                                  __                                                 /\\ \\                       /\\ \\       /\\_ \\                                  \n",
    "                     ___ ___     /\\_\\     ___      ___      ___     ___       __     \\ \\\\      ____             \\ \\ \\____  \\//\\ \\      ___      __                \n",
    "                    /' __` __`\\  \\/\\ \\  /' _ `\\  /' _ `\\   / __`\\ /' _ `\\   /'_ `\\    \\//     /',__\\             \\ \\ '__`\\   \\ \\ \\    / __`\\  /'_ `\\              \n",
    "                    /\\ \\/\\ \\/\\ \\  \\ \\ \\ /\\ \\/\\ \\ /\\ \\/\\ \\ /\\ \\L\\ \\/\\ \\/\\ \\ /\\ \\L\\ \\          /\\__, `\\             \\ \\ \\L\\ \\   \\_\\ \\_ /\\ \\L\\ \\/\\ \\L\\ \\             \n",
    "                    \\ \\_\\ \\_\\ \\_\\  \\ \\_\\\\ \\_\\ \\_\\\\ \\_\\ \\_\\\\ \\____/\\ \\_\\ \\_\\\\ \\____ \\         \\/\\____/              \\ \\_,__/   /\\____\\\\ \\____/\\ \\____ \\            \n",
    "                     \\/_/\\/_/\\/_/   \\/_/ \\/_/\\/_/ \\/_/\\/_/ \\/___/  \\/_/\\/_/ \\/___L\\ \\         \\/___/                \\/___/    \\/____/ \\/___/  \\/___L\\ \\           \n",
    "                                                                              /\\____/                                                           /\\____/           \n",
    "                                                                              \\_/__/    "
   ]
  },
  {
   "cell_type": "code",
   "execution_count": null,
   "metadata": {
    "vscode": {
     "languageId": "html"
    }
   },
   "outputs": [],
   "source": []
  }
 ],
 "metadata": {
  "language_info": {
   "name": "python"
  }
 },
 "nbformat": 4,
 "nbformat_minor": 2
}
