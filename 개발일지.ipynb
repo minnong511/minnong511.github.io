{
 "cells": [
  {
   "cell_type": "markdown",
   "metadata": {},
   "source": [
    "# 1월 20일 \n",
    "- 깃허브 반응형 웹페이지 제작 시작 \n",
    "\n",
    "- 카테고리 별로 접속하고, 데이터 목록을 볼 수 있게 작성 "
   ]
  },
  {
   "cell_type": "markdown",
   "metadata": {},
   "source": [
    "# 1월 21일\n",
    "- 반응형 메뉴 제작\n",
    "    - 카테고리 + 서브 카테고리까지 만드는 걸로로\n",
    "- 디자인 레퍼런스 결정 -> 심플 웹사이트로 "
   ]
  },
  {
   "cell_type": "code",
   "execution_count": null,
   "metadata": {
    "vscode": {
     "languageId": "plaintext"
    }
   },
   "outputs": [],
   "source": [
    "# 1월 22일 \n",
    "- 다시 Repo 만들고, 재배포 시작\n",
    "- 캐시 파일이 문제야 으으 \n",
    "    - 브라우저 캐싱 초기화 코드 삽입했음\n",
    "- 메뉴바 옆에 막대기 만듬 "
   ]
  },
  {
   "cell_type": "markdown",
   "metadata": {},
   "source": [
    "# 1월 23일\n",
    "- 서브 카테고리의 HTML 페이지 만드는 것이 목표\n",
    "- HTML의 모듈화 - 상단바, 메뉴, 하단바  모듈화하기 \n",
    "- 항상 구조를 생각하기 \n",
    "\n",
    "Jekyll의 기본 동작(카테고리와 포스트)을 활용하고, 다음 구조를 적용합니다:\n",
    "\n",
    "파일 관리:\n",
    "\n",
    "_posts/ 폴더에 모든 게시글을 저장.\n",
    "대분류와 소분류를 YAML Front Matter에서 categories로 지정.\n",
    "파일 이름은 YYYY-MM-DD-title.md 형식을 사용.\n",
    "페이지 생성:\n",
    "\n",
    "각 대분류에 대한 동적 페이지 생성.\n",
    "소분류를 클릭하면 해당 소분류의 게시글을 보여주는 템플릿 작성.\n",
    "구조 설계:\n",
    "\n",
    "대분류 페이지: 소분류 목록과 해당 소분류의 최신 게시글을 표시.\n",
    "소분류 페이지: 해당 소분류의 모든 게시글을 표시.\n",
    "\n",
    "- 페이지 오른쪽 마크다운 추적 기능 \n",
    "\n",
    "\n",
    "- 게시글 볼 수 있게 하는 게 오늘 목표 "
   ]
  },
  {
   "cell_type": "code",
   "execution_count": null,
   "metadata": {
    "vscode": {
     "languageId": "plaintext"
    }
   },
   "outputs": [],
   "source": [
    "# 1월 24일\n",
    "\n",
    "- 메인 메뉴는 카테고리를 적자 ! \n",
    "- 좀 재미있어 보이게 만들자. \n",
    "- "
   ]
  }
 ],
 "metadata": {
  "language_info": {
   "name": "python"
  }
 },
 "nbformat": 4,
 "nbformat_minor": 2
}
