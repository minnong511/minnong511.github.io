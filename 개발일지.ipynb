{
 "cells": [
  {
   "cell_type": "markdown",
   "metadata": {},
   "source": [
    "# 1월 20일 \n",
    "- 깃허브 반응형 웹페이지 제작 시작 \n",
    "\n",
    "- 카테고리 별로 접속하고, 데이터 목록을 볼 수 있게 작성 "
   ]
  },
  {
   "cell_type": "markdown",
   "metadata": {},
   "source": []
  }
 ],
 "metadata": {
  "language_info": {
   "name": "python"
  }
 },
 "nbformat": 4,
 "nbformat_minor": 2
}
