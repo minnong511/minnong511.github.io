{
 "cells": [
  {
   "cell_type": "markdown",
   "metadata": {},
   "source": [
    "# 내비게이션 바 2개 출력되는 사건 \n",
    "\n",
    "- 오류 원인: HTML 코드에서 중복으로 내비게이션 바를 선언했거나, CSS 파일이나 템플릿에서 내비게이션 관련 요소가 두 번 렌더링\n",
    "- 오류 위치 : main 에 <nav bar> 선언 되었었음\n",
    "- 찾은 방법 : 브라우저 F12로 찾았음"
   ]
  },
  {
   "cell_type": "markdown",
   "metadata": {},
   "source": [
    "# 페이지를 다시 로드하면 HTML 파일이 사라지는 문제 \n",
    "- 오류 원인 :HTML 파일이 사라지는 문제는 Jekyll이 사이트를 빌드할 때 _site 디렉토리를 재생성하기 때문 , ekyll은 소스 파일을 기반으로 _site 디렉토리를 생성하며, 이 과정에서 기존 파일이 덮어쓰여질 수 있음\n",
    "\n",
    "- 해결 방법 : 소소스 파일을 _site 디렉토리가 아닌 프로젝트의 루트 디렉토리나 적절한 위치에 배치해야 합니다. _site 디렉토리는 Jekyll이 빌드한 결과물이므로 직접 수정하지 않아야 합니"
   ]
  },
  {
   "cell_type": "markdown",
   "metadata": {},
   "source": [
    "\n",
    "_includes 디렉토리에 재사용할 HTML 조각을 저장합니다.\n",
    "{% include %} 태그를 사용하여 레이아웃 파일이나 페이지 파일에 HTML 조각을 포함합니다.\n",
    "페이지 파일에서 레이아웃을 지정하여 해당 레이아웃을 사용하도록 합니다."
   ]
  },
  {
   "cell_type": "markdown",
   "metadata": {},
   "source": [
    "# 한 파일만 바꿔도 수정되는 문제 \n",
    "\n",
    "- 심볼릭 링크 문제 "
   ]
  },
  {
   "cell_type": "markdown",
   "metadata": {},
   "source": [
    "# 배포가 안되는 문제\n",
    "\n",
    "- .github/workflows 파일이 없어서 생기는 문제\n",
    "\n",
    "# 새롭게 만들어도 갱신이 안되는 문제 \n",
    "\n",
    "- 브라우저의 Cache 파일 지우기 "
   ]
  },
  {
   "cell_type": "code",
   "execution_count": null,
   "metadata": {
    "vscode": {
     "languageId": "plaintext"
    }
   },
   "outputs": [],
   "source": [
    "# 메뉴가 그냥 열려있는 상황\n",
    "\n",
    "- 현재 메뉴가 기본적으로 열려 있는 상태로 렌더링된 것 같습니다. 이 문제는 주로 CSS 기본 스타일 설정과 JavaScript 초기 상태 설"
   ]
  },
  {
   "cell_type": "markdown",
   "metadata": {},
   "source": [
    "# 파일로딩이 안되는 문제\n",
    "\n",
    "1. _config_yml에서 Exclude 확인 \n",
    "\n",
    "4. 현재 계획으로 진행할 경우 필요한 설정\n",
    "(1) _categories 디렉토리를 사용할 경우\n",
    "_categories가 아닌 categories 폴더를 사용하는 경우, HTML 파일에서 Front Matter를 제대로 설정해야 합니다.\n",
    "\n",
    "HTML 파일 예제 (categories/photo.html)\n",
    "html\n",
    "복사\n",
    "편집\n",
    "---\n",
    "layout: category\n",
    "title: \"Photo\"\n",
    "category: Photo\n",
    "permalink: /categories/photo/\n",
    "---\n",
    "(2) 게시글의 categories 설정\n",
    "게시글에서 정확히 categories를 설정해야만 카테고리 페이지에서 필터링됩니다.\n",
    "\n",
    "게시글 예제 (_posts/2025-01-24-my-first-photo-post.md):\n",
    "\n",
    "markdown\n",
    "복사\n",
    "편집\n",
    "---\n",
    "layout: post\n",
    "title: \"My First Photo Post\"\n",
    "categories:\n",
    "  - Photo\n",
    "date: 2025-01-24\n",
    "---\n",
    "(3) 카테고리 페이지에서 게시글 불러오기\n",
    "HTML 파일에서 아래 코드를 사용하여 카테고리별로 게시글을 불러옵니다.\n",
    "\n",
    "html\n",
    "복사\n",
    "편집\n",
    "<ul>\n",
    "    {% assign sorted_posts = site.posts | sort: \"date\" | reverse %}\n",
    "    {% for post in sorted_posts %}\n",
    "        {% if post.categories contains page.category %}\n",
    "            <li>\n",
    "                <a href=\"{{ post.url }}\">{{ post.title }}</a>\n",
    "                <small>({{ post.date | date: \"%Y-%m-%d\" }})</small>\n",
    "            </li>\n",
    "        {% endif %}\n",
    "    {% endfor %}\n",
    "</ul>\n",
    "5. 추천 방법"
   ]
  },
  {
   "cell_type": "markdown",
   "metadata": {},
   "source": [
    "feat: 추가 login 메서드\n",
    "\n",
    "로그인 API 개발\n",
    "\n",
    "Resolves: #123"
   ]
  }
 ],
 "metadata": {
  "language_info": {
   "name": "python"
  }
 },
 "nbformat": 4,
 "nbformat_minor": 2
}
