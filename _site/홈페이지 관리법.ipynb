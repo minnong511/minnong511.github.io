{
 "cells": [
  {
   "cell_type": "markdown",
   "metadata": {},
   "source": [
    "### 제작된 html 템플릿  -> 페이지 생성 -> 페이지를 버튼과 로딩하는 법 \n",
    "\n",
    "1. layouts 에 내가 필요한 페이지 템플릿 만들기 (모듈화하고 싶으면 _include에 파일 미리 만들어놓기) \n",
    "2. categories에 파일 생성하기 -> 원하는 페이지.html \n",
    "\n",
    "2.1 상세 설정하기 \n",
    "---\n",
    "layout: graphic_ex\n",
    "title: \"Home page\"\n",
    "permalink: /categories/home_page/home_page\n",
    "--- \n",
    "라고 하면 \n",
    "\n",
    "<!-- 중앙 텍스트 -->\n",
    "<div class=\"center-text\">\n",
    "    <a href=\"/categories/home_page/home_page\" class=\"ascii-art\" id=\"ascii-art\">\n",
    "    <pre>\n",
    "                \n",
    "하이퍼링크와 permalink를 동일하게 만들어서 같은 경로를 지정할 수 있게 만들어야 한다. \n",
    "\n",
    "+-----------------------+          +---------------------------+\n",
    "|      웹 페이지        |          |       콘텐츠 페이지        |\n",
    "|                       |          |                           |\n",
    "|  [글 제목]            |          |  퍼머링크:                 |\n",
    "|  https://example.com  | -------->|  https://example.com/글제목 |\n",
    "|                       |          |                           |\n",
    "+-----------------------+          +---------------------------+\n",
    "          하이퍼링크 (링크) ↗\n",
    "\n",
    "permalink는 기존 홈페이지에 식별자를 붙여주는 역할 - 이거는 깃허브 블로그의 jekyll이 markdown이나 html에 대해서 퍼마링크를 생성해준다. "
   ]
  }
 ],
 "metadata": {
  "language_info": {
   "name": "python"
  }
 },
 "nbformat": 4,
 "nbformat_minor": 2
}
