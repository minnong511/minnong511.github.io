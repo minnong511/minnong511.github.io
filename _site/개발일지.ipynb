{
 "cells": [
  {
   "cell_type": "markdown",
   "metadata": {},
   "source": [
    "# 1월 20일 \n",
    "- 깃허브 반응형 웹페이지 제작 시작 \n",
    "\n",
    "- 카테고리 별로 접속하고, 데이터 목록을 볼 수 있게 작성 "
   ]
  },
  {
   "cell_type": "markdown",
   "metadata": {},
   "source": [
    "# 1월 21일\n",
    "- 반응형 메뉴 제작\n",
    "    - 카테고리 + 서브 카테고리까지 만드는 걸로로\n",
    "- 디자인 레퍼런스 결정 -> 심플 웹사이트로 "
   ]
  }
 ],
 "metadata": {
  "language_info": {
   "name": "python"
  }
 },
 "nbformat": 4,
 "nbformat_minor": 2
}
